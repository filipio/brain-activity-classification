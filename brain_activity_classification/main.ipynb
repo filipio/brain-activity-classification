{
 "cells": [
  {
   "cell_type": "code",
   "execution_count": 25,
   "metadata": {},
   "outputs": [],
   "source": [
    "import numpy as np\n",
    "from nilearn.signal import clean\n",
    "import glob"
   ]
  },
  {
   "cell_type": "code",
   "execution_count": 26,
   "metadata": {},
   "outputs": [],
   "source": [
    "DATASET_DIR = \"../dataset/AOMIC\"\n",
    "TS_DIR = f\"{DATASET_DIR}/TS\"\n",
    "NOISE_DIR = f\"{DATASET_DIR}/Noise\""
   ]
  },
  {
   "cell_type": "code",
   "execution_count": 27,
   "metadata": {},
   "outputs": [],
   "source": [
    "ts_files_paths = [i for i in glob.glob(f\"{TS_DIR}/sub-*.txt\")]\n",
    "ts_files_paths.sort()\n",
    "ts_files_names = [i.split(\"/\")[-1] for i in ts_files_paths]"
   ]
  },
  {
   "cell_type": "code",
   "execution_count": 28,
   "metadata": {},
   "outputs": [
    {
     "name": "stdout",
     "output_type": "stream",
     "text": [
      "../dataset/AOMIC/Noise/sub-0001_task-stopsignal_acq-seq_desc-confounds_regressors_6_motion_and_derivs.txt\n"
     ]
    },
    {
     "name": "stderr",
     "output_type": "stream",
     "text": [
      "/var/folders/t_/mdbhrqg533x2vn19qt663qb40000gn/T/ipykernel_16063/1154805771.py:9: FutureWarning: The default strategy for standardize is currently 'zscore' which incorrectly uses population std to calculate sample zscores. The new strategy 'zscore_sample' corrects this behavior by using the sample std. In release 0.13, the default strategy will be replaced by the new strategy and the 'zscore' option will be removed. Please use 'zscore_sample' instead.\n",
      "  cleaned_TS = clean(TS, confounds=noise, standardize=True, detrend=True)\n"
     ]
    }
   ],
   "source": [
    "i = 1\n",
    "TS = np.loadtxt(ts_files_paths[i])\n",
    "scanID = ts_files_names[i][:-59]\n",
    "print(f\"{NOISE_DIR}/{scanID}_acq-seq_desc-confounds_regressors_6_motion_and_derivs.txt\")\n",
    "noise = np.loadtxt(\n",
    "    f\"{NOISE_DIR}/{scanID}_acq-seq_desc-confounds_regressors_6_motion_and_derivs.txt\"\n",
    ")\n",
    "\n",
    "cleaned_TS = clean(TS, confounds=noise, standardize=True, detrend=True)"
   ]
  },
  {
   "cell_type": "code",
   "execution_count": 29,
   "metadata": {},
   "outputs": [
    {
     "data": {
      "text/plain": [
       "(228, 200)"
      ]
     },
     "execution_count": 29,
     "metadata": {},
     "output_type": "execute_result"
    }
   ],
   "source": [
    "cleaned_TS.shape"
   ]
  }
 ],
 "metadata": {
  "kernelspec": {
   "display_name": "Python 3 (ipykernel)",
   "language": "python",
   "name": "python3"
  },
  "language_info": {
   "codemirror_mode": {
    "name": "ipython",
    "version": 3
   },
   "file_extension": ".py",
   "mimetype": "text/x-python",
   "name": "python",
   "nbconvert_exporter": "python",
   "pygments_lexer": "ipython3",
   "version": "3.10.9"
  }
 },
 "nbformat": 4,
 "nbformat_minor": 2
}
